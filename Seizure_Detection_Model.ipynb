{
  "nbformat": 4,
  "nbformat_minor": 0,
  "metadata": {
    "colab": {
      "provenance": [],
      "include_colab_link": true
    },
    "kernelspec": {
      "name": "python3",
      "display_name": "Python 3"
    },
    "language_info": {
      "name": "python"
    }
  },
  "cells": [
    {
      "cell_type": "markdown",
      "metadata": {
        "id": "view-in-github",
        "colab_type": "text"
      },
      "source": [
        "<a href=\"https://colab.research.google.com/github/gmmanzo/Seizure-Detection/blob/main/Seizure_Detection_Model.ipynb\" target=\"_parent\"><img src=\"https://colab.research.google.com/assets/colab-badge.svg\" alt=\"Open In Colab\"/></a>"
      ]
    },
    {
      "cell_type": "markdown",
      "source": [
        "# Build a seizure detection model using Time Series forecasting with the folllowing dataset https://physionet.org/content/chbmit/1.0.0/chb01/#files-panel"
      ],
      "metadata": {
        "id": "Nljl7oG0pMsT"
      }
    },
    {
      "cell_type": "code",
      "source": [],
      "metadata": {
        "id": "-7HtF17Epaib"
      },
      "execution_count": null,
      "outputs": []
    }
  ]
}