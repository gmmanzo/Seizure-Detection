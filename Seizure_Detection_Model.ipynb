{
  "cells": [
    {
      "cell_type": "markdown",
      "metadata": {
        "id": "view-in-github",
        "colab_type": "text"
      },
      "source": [
        "<a href=\"https://colab.research.google.com/github/gmmanzo/Seizure-Detection/blob/main/Seizure_Detection_Model.ipynb\" target=\"_parent\"><img src=\"https://colab.research.google.com/assets/colab-badge.svg\" alt=\"Open In Colab\"/></a>"
      ]
    },
    {
      "cell_type": "markdown",
      "metadata": {
        "id": "Nljl7oG0pMsT"
      },
      "source": [
        "# Build a seizure detection model using Time Series forecasting with the folllowing dataset https://physionet.org/content/chbmit/1.0.0/chb01/#files-panel"
      ]
    },
    {
      "cell_type": "markdown",
      "metadata": {
        "id": "-7HtF17Epaib"
      },
      "source": [
        "### To do this, we will first need to Extract and Visualize the Data to ensure the efficacy and reliability of the data,\n",
        "\n",
        "Check for Recall(Main Part), Precision, F1 Score, & MAE in all of the model:\n",
        "\n",
        "1. Naive Model, (Window = 7, Horizon = 1)\n",
        "2. Basic Sequential Model (Window = 7, Horizon = 1)\n",
        "3. Basic CNN (Window = 7, Horizon = 1)\n",
        "4. Basic RNN (LSTM) (Window = 7, Horizon = 1)\n",
        "5. Absolutely insane: Hybrid Model https://arxiv.org/html/2501.10342v1 (99.83% accuracy)"
      ]
    },
    {
      "cell_type": "markdown",
      "metadata": {
        "id": "trWWo6TTqcrF"
      },
      "source": [
        "# Extract the data"
      ]
    },
    {
      "cell_type": "code",
      "execution_count": 2,
      "metadata": {
        "colab": {
          "base_uri": "https://localhost:8080/"
        },
        "id": "rsOO2S3ytyL4",
        "outputId": "3a0c485c-2803-4cdd-fecf-9a68a56ff55e"
      },
      "outputs": [
        {
          "output_type": "stream",
          "name": "stdout",
          "text": [
            "--2025-01-30 23:19:33--  https://physionet.org/content/siena-scalp-eeg/1.0.0/PN00/PN00-1.edf\n",
            "Resolving physionet.org (physionet.org)... 18.18.42.54\n",
            "Connecting to physionet.org (physionet.org)|18.18.42.54|:443... connected.\n",
            "HTTP request sent, awaiting response... 200 OK\n",
            "Length: 5104 (5.0K) [text/html]\n",
            "Saving to: ‘PN00-1.edf’\n",
            "\n",
            "PN00-1.edf          100%[===================>]   4.98K  --.-KB/s    in 0s      \n",
            "\n",
            "2025-01-30 23:19:33 (1.57 GB/s) - ‘PN00-1.edf’ saved [5104/5104]\n",
            "\n"
          ]
        }
      ],
      "source": [
        "!wget \"https://physionet.org/content/siena-scalp-eeg/1.0.0/PN00/PN00-1.edf\"\n",
        "f= open(\"PN00-1.edf\", \"r\", encoding = \"utf-8\")"
      ]
    },
    {
      "cell_type": "code",
      "execution_count": 2,
      "metadata": {
        "id": "eOa6i3Ctx2Sp"
      },
      "outputs": [],
      "source": []
    },
    {
      "cell_type": "code",
      "execution_count": 3,
      "metadata": {
        "colab": {
          "base_uri": "https://localhost:8080/"
        },
        "id": "xkn7jIL1yJ9V",
        "outputId": "5222db05-afc8-432f-869f-0ca0d8629df1"
      },
      "outputs": [
        {
          "output_type": "stream",
          "name": "stdout",
          "text": [
            "Collecting pyedflib\n",
            "  Downloading pyedflib-0.1.39.tar.gz (2.2 MB)\n",
            "\u001b[?25l     \u001b[90m━━━━━━━━━━━━━━━━━━━━━━━━━━━━━━━━━━━━━━━━\u001b[0m \u001b[32m0.0/2.2 MB\u001b[0m \u001b[31m?\u001b[0m eta \u001b[36m-:--:--\u001b[0m\r\u001b[2K     \u001b[91m━━━━━━━━━━━━━━━━━━━━━━━━━━━━━━━━━━━━\u001b[0m\u001b[90m╺\u001b[0m\u001b[90m━━━\u001b[0m \u001b[32m1.9/2.2 MB\u001b[0m \u001b[31m58.9 MB/s\u001b[0m eta \u001b[36m0:00:01\u001b[0m\r\u001b[2K     \u001b[90m━━━━━━━━━━━━━━━━━━━━━━━━━━━━━━━━━━━━━━━━\u001b[0m \u001b[32m2.2/2.2 MB\u001b[0m \u001b[31m32.0 MB/s\u001b[0m eta \u001b[36m0:00:00\u001b[0m\n",
            "\u001b[?25h  Installing build dependencies ... \u001b[?25l\u001b[?25hdone\n",
            "  Getting requirements to build wheel ... \u001b[?25l\u001b[?25hdone\n",
            "  Preparing metadata (pyproject.toml) ... \u001b[?25l\u001b[?25hdone\n",
            "Requirement already satisfied: numpy>=1.9.1 in /usr/local/lib/python3.11/dist-packages (from pyedflib) (1.26.4)\n",
            "Building wheels for collected packages: pyedflib\n",
            "  Building wheel for pyedflib (pyproject.toml) ... \u001b[?25l\u001b[?25hdone\n",
            "  Created wheel for pyedflib: filename=pyEDFlib-0.1.39-cp311-cp311-linux_x86_64.whl size=2624432 sha256=539132974cfcdf87ca8725e65ddaec126130648a5ac062f1d050b4b64e487664\n",
            "  Stored in directory: /root/.cache/pip/wheels/6d/25/41/b9605de2c5973791e87828347971b06712b12a14add875bff6\n",
            "Successfully built pyedflib\n",
            "Installing collected packages: pyedflib\n",
            "Successfully installed pyedflib-0.1.39\n"
          ]
        }
      ],
      "source": [
        "pip install pyedflib"
      ]
    },
    {
      "cell_type": "code",
      "execution_count": 1,
      "metadata": {
        "id": "dAX5Zj4Gy8ye",
        "colab": {
          "base_uri": "https://localhost:8080/",
          "height": 383
        },
        "outputId": "0bcfa7a5-1c22-4697-db21-8d16b61a5882"
      },
      "outputs": [
        {
          "output_type": "error",
          "ename": "ModuleNotFoundError",
          "evalue": "No module named 'pyedflib'",
          "traceback": [
            "\u001b[0;31m---------------------------------------------------------------------------\u001b[0m",
            "\u001b[0;31mModuleNotFoundError\u001b[0m                       Traceback (most recent call last)",
            "\u001b[0;32m<ipython-input-1-00f463ec1470>\u001b[0m in \u001b[0;36m<cell line: 0>\u001b[0;34m()\u001b[0m\n\u001b[1;32m      1\u001b[0m \u001b[0;31m# Load all data\u001b[0m\u001b[0;34m\u001b[0m\u001b[0;34m\u001b[0m\u001b[0m\n\u001b[0;32m----> 2\u001b[0;31m \u001b[0;32mimport\u001b[0m \u001b[0mpyedflib\u001b[0m \u001b[0;31m# Used for edf files\u001b[0m\u001b[0;34m\u001b[0m\u001b[0;34m\u001b[0m\u001b[0m\n\u001b[0m\u001b[1;32m      3\u001b[0m \u001b[0;32mimport\u001b[0m \u001b[0mpandas\u001b[0m \u001b[0;32mas\u001b[0m \u001b[0mpd\u001b[0m\u001b[0;34m\u001b[0m\u001b[0;34m\u001b[0m\u001b[0m\n\u001b[1;32m      4\u001b[0m \u001b[0;34m\u001b[0m\u001b[0m\n\u001b[1;32m      5\u001b[0m \u001b[0;31m# Load the EDF file\u001b[0m\u001b[0;34m\u001b[0m\u001b[0;34m\u001b[0m\u001b[0m\n",
            "\u001b[0;31mModuleNotFoundError\u001b[0m: No module named 'pyedflib'",
            "",
            "\u001b[0;31m---------------------------------------------------------------------------\u001b[0;32m\nNOTE: If your import is failing due to a missing package, you can\nmanually install dependencies using either !pip or !apt.\n\nTo view examples of installing some common dependencies, click the\n\"Open Examples\" button below.\n\u001b[0;31m---------------------------------------------------------------------------\u001b[0m\n"
          ],
          "errorDetails": {
            "actions": [
              {
                "action": "open_url",
                "actionText": "Open Examples",
                "url": "/notebooks/snippets/importing_libraries.ipynb"
              }
            ]
          }
        }
      ],
      "source": [
        "# Load all data\n",
        "import pyedflib # Used for edf files\n",
        "import pandas as pd\n",
        "\n",
        "# Load the EDF file\n",
        "file_path = \"/content/PN00-1.edf\"\n",
        "edf = pyedflib.EdfReader(file_path)\n",
        "\n",
        "# Extract signal labels\n",
        "signal_labels = edf.getSignalLabels()\n",
        "\n",
        "# Extract signal data\n",
        "signals = []\n",
        "for i in range(edf.signals_in_file):\n",
        "    signals.append(edf.readSignal(i))\n",
        "\n",
        "# Create a DataFrame\n",
        "df = pd.DataFrame(signals).transpose()\n",
        "df.columns = signal_labels\n",
        "\n",
        "# Close the EDF file\n",
        "edf.close()\n",
        "\n",
        "# Display the DataFrame\n",
        "print(df)\n",
        "\n",
        "\n"
      ]
    },
    {
      "cell_type": "code",
      "source": [
        "# Omit all columns except for EEG Fp1 and EEG Fp2\n",
        "\n",
        "# Load the EDF file\n",
        "import numpy as np\n",
        "\n",
        "file_path = '/content/PN00-1.edf'\n",
        "edf = pyedflib.EdfReader(file_path)\n",
        "\n",
        "# Extract signal labels\n",
        "signal_labels = edf.getSignalLabels()\n",
        "print(\"Available signals:\", signal_labels)  # Debug\n",
        "\n",
        "# Find indices of 'EEG Fp1' and 'EEG Fp2'\n",
        "desired_labels = ['EEG Fp1', 'EEG Fp2']\n",
        "indices = [i for i, label in enumerate(signal_labels) if label in desired_labels]\n",
        "\n",
        "# Debug: Check indices found\n",
        "print(f\"EEG Fp1 Index: {indices[0] if len(indices) > 0 else 'Not Found'}\")\n",
        "print(f\"EEG Fp2 Index: {indices[1] if len(indices) > 1 else 'Not Found'}\")\n",
        "\n",
        "# Ensure both channels exist\n",
        "if len(indices) < 2:\n",
        "    raise ValueError(\"EEG Fp1 or EEG Fp2 not found in the EDF file!\")\n",
        "\n",
        "# Extract only the required signals\n",
        "signals_new = [edf.readSignal(i).flatten() for i in indices]\n",
        "\n",
        "# Get sample rates\n",
        "fs_fp1 = edf.getSampleFrequency(indices[0])\n",
        "fs_fp2 = edf.getSampleFrequency(indices[1])\n",
        "\n",
        "print(f\"Sample Rate of EEG Fp1: {fs_fp1} Hz\")\n",
        "print(f\"Sample Rate of EEG Fp2: {fs_fp2} Hz\")\n",
        "\n",
        "# If sample rates are different, print a warning\n",
        "if fs_fp1 != fs_fp2:\n",
        "    print(\"⚠️ Warning: EEG Fp1 and EEG Fp2 have different sample rates!\")\n",
        "\n",
        "#Generate time array based on first signal length\n",
        "n_samples = len(signals_new[0])\n",
        "time = np.arange(n_samples)/fs_fp1\n",
        "\n",
        "# Create a DataFrame\n",
        "df_new = pd.DataFrame(np.column_stack([time, signals_new[0], signals_new[1]]),\n",
        "                      columns=['Time'] + desired_labels)\n",
        "edf.close()\n",
        "\n",
        "# Create a DataFrame without time array\n",
        "#df_new = pd.DataFrame(signals_new).transpose()\n",
        "#df_new.columns = desired_labels  # Keeping only EEG Fp1 and EEG Fp2\n",
        "\n",
        "# Display the DataFrame\n",
        "print(df_new)"
      ],
      "metadata": {
        "colab": {
          "base_uri": "https://localhost:8080/",
          "height": 315
        },
        "id": "48iYuqZo1Mle",
        "outputId": "32ad988f-3848-439d-f61a-b17332a00d4b"
      },
      "execution_count": 5,
      "outputs": [
        {
          "output_type": "error",
          "ename": "OSError",
          "evalue": "/content/PN00-1.edf: the file is not EDF(+) or BDF(+) compliant (it contains format errors)",
          "traceback": [
            "\u001b[0;31m---------------------------------------------------------------------------\u001b[0m",
            "\u001b[0;31mOSError\u001b[0m                                   Traceback (most recent call last)",
            "\u001b[0;32m<ipython-input-5-90290172e6ac>\u001b[0m in \u001b[0;36m<cell line: 0>\u001b[0;34m()\u001b[0m\n\u001b[1;32m      5\u001b[0m \u001b[0;34m\u001b[0m\u001b[0m\n\u001b[1;32m      6\u001b[0m \u001b[0mfile_path\u001b[0m \u001b[0;34m=\u001b[0m \u001b[0;34m'/content/PN00-1.edf'\u001b[0m\u001b[0;34m\u001b[0m\u001b[0;34m\u001b[0m\u001b[0m\n\u001b[0;32m----> 7\u001b[0;31m \u001b[0medf\u001b[0m \u001b[0;34m=\u001b[0m \u001b[0mpyedflib\u001b[0m\u001b[0;34m.\u001b[0m\u001b[0mEdfReader\u001b[0m\u001b[0;34m(\u001b[0m\u001b[0mfile_path\u001b[0m\u001b[0;34m)\u001b[0m\u001b[0;34m\u001b[0m\u001b[0;34m\u001b[0m\u001b[0m\n\u001b[0m\u001b[1;32m      8\u001b[0m \u001b[0;34m\u001b[0m\u001b[0m\n\u001b[1;32m      9\u001b[0m \u001b[0;31m# Extract signal labels\u001b[0m\u001b[0;34m\u001b[0m\u001b[0;34m\u001b[0m\u001b[0m\n",
            "\u001b[0;32mpyedflib/_extensions/_pyedflib.pyx\u001b[0m in \u001b[0;36mpyedflib._extensions._pyedflib.CyEdfReader.__init__\u001b[0;34m()\u001b[0m\n",
            "\u001b[0;32mpyedflib/_extensions/_pyedflib.pyx\u001b[0m in \u001b[0;36mpyedflib._extensions._pyedflib.CyEdfReader.open\u001b[0;34m()\u001b[0m\n",
            "\u001b[0;32mpyedflib/_extensions/_pyedflib.pyx\u001b[0m in \u001b[0;36mpyedflib._extensions._pyedflib.CyEdfReader.check_open_ok\u001b[0;34m()\u001b[0m\n",
            "\u001b[0;31mOSError\u001b[0m: /content/PN00-1.edf: the file is not EDF(+) or BDF(+) compliant (it contains format errors)"
          ]
        }
      ]
    },
    {
      "cell_type": "code",
      "source": [
        "# Visualize data\n",
        "import matplotlib.pyplot as plt\n",
        "plt.figure(figsize = (12,6))\n",
        "plt.plot(df_new['Time'], df_new['EEG Fp1'], label='EEG Fp1', color='blue')\n",
        "plt.plot(df_new['Time'], df_new['EEG Fp2'], label='EEG Fp2', color='red')\n",
        "\n",
        "plt.xlabel('Time (seconds)')\n",
        "plt.ylabel('Amplitude')\n",
        "plt.title('EEG Signals')\n",
        "plt.legend()\n",
        "plt.grid()\n",
        "plt.show()"
      ],
      "metadata": {
        "id": "ISmw6isi33Lm"
      },
      "execution_count": null,
      "outputs": []
    },
    {
      "cell_type": "markdown",
      "source": [
        "## Feature extraction and Seizure classification:\n",
        "\n",
        "1. Understand EEG format, look at data frame using \"name.head()\"\n",
        "2. Choose machine learning task\n",
        "* EEG classification: detecting seizures\n",
        "* EEG regression: predicting cognitive load\n",
        "* EEG time series analysis: forecasting (LSTM, CNNs)\n",
        "3. Feature engineering to extract features like:\n",
        "* Statistical Features: Mean, variance, skewness, kurtosis\n",
        "* Frequency Features: Power spectral density (PSD), Fast Fourier Transform (FFT)\n",
        "* Wavelet Features: Decomposition of EEG signals\n",
        "* Time-Series Features: Moving averages, peak detection\n",
        "4. Format for machine learning\n",
        "5. Train ML model\n",
        "6. Evaluate and optimize\n",
        "\n",
        "**Sliding windows**: split EEG data into smaller structured segments that overlap based on step size to ensure smooth transitions. Different window sizes can help capture short term or long term patterns"
      ],
      "metadata": {
        "id": "9DHaYs81624G"
      }
    },
    {
      "cell_type": "code",
      "source": [
        "#Load data\n",
        "import pyedflib\n",
        "import numpy as np\n",
        "import pandas as pd\n",
        "\n",
        "#Load edf file\n",
        "file_path = '/content/PN00-1.edf'\n",
        "edf = pyedflib.EdfReader(file_path)\n",
        "\n",
        "#Extract signal labels and check\n",
        "EEG_labels = edf.getSignalLabels()\n",
        "print(\"EEG labels:\", EEG_labels)"
      ],
      "metadata": {
        "id": "8K1QyMQt_KTv"
      },
      "execution_count": null,
      "outputs": []
    },
    {
      "cell_type": "code",
      "source": [
        "# Segment Data into Windows\n",
        "# This is useful when there is a lot of data\n",
        "window_size = 512 #number of samples per second\n",
        "step_size = 50 #overlap between windows\n",
        "\n",
        "# Create sliding windows\n",
        "def create_windows(eeg_data, window_size, step_size):\n",
        "    windows = [eeg_data[i:i+window_size] for i in range(0, len(eeg_data) - window_size + 1, step_size)]\n",
        "    return np.array(windows)\n",
        "\n",
        "# Apply sliding window to each channel signal\n",
        "sliding_windows = {}\n",
        "for i, label in enumerate(EEG_labels):\n",
        "    channel_signal = signals[i]\n",
        "    sliding_windows[label] = create_windows(channel_signal, window_size, step_size)"
      ],
      "metadata": {
        "id": "6_NX_9o3BfoG"
      },
      "execution_count": null,
      "outputs": []
    },
    {
      "cell_type": "code",
      "source": [
        "from scipy.stats import skew, kurtosis\n",
        "from scipy.signal import welch\n",
        "from sklearn.ensemble import RandomForestClassifier\n",
        "from sklearn.model_selection import train_test_split\n",
        "from sklearn.metrics import classification_report, accuracy_score\n",
        "\n",
        "# Define feature extraction function (Import this into our github helper functions)\n",
        "def extract_features(windows):\n",
        "    features = {}\n",
        "\n",
        "    # Time-domain features\n",
        "    features['mean'] = np.mean(windows)\n",
        "    features['std'] = np.std(windows)\n",
        "    features['skew'] = skew(windows)\n",
        "    features['kurtosis'] = kurtosis(windows)\n",
        "\n",
        "    # Frequency-domain features (Power Spectral Density)\n",
        "    f, Pxx = welch(windows, fs=512, nperseg=512)\n",
        "    features['power_band'] = np.sum(Pxx)  # Total power\n",
        "\n",
        "    return features\n",
        "\n",
        "# Extract features for each window in each channel\n",
        "features = []\n",
        "for label, windows in sliding_windows.items():\n",
        "    for window in windows:\n",
        "        features.append(extract_features(windows))\n",
        "\n",
        "# Convert feature list to a DataFrame\n",
        "df_features = pd.DataFrame(features)\n",
        "\n",
        "# Display the first few rows of the extracted features\n",
        "print(df_features.head())\n",
        "\n"
      ],
      "metadata": {
        "id": "i9O2KBAoB4TU"
      },
      "execution_count": null,
      "outputs": []
    },
    {
      "cell_type": "code",
      "source": [],
      "metadata": {
        "id": "HH1e9wRbDUgQ"
      },
      "execution_count": null,
      "outputs": []
    }
  ],
  "metadata": {
    "colab": {
      "provenance": [],
      "include_colab_link": true
    },
    "kernelspec": {
      "display_name": "Python 3",
      "name": "python3"
    },
    "language_info": {
      "name": "python"
    }
  },
  "nbformat": 4,
  "nbformat_minor": 0
}