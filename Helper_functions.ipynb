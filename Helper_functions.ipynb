{
  "nbformat": 4,
  "nbformat_minor": 0,
  "metadata": {
    "colab": {
      "provenance": [],
      "authorship_tag": "ABX9TyMXGlvO3NhsZAVpNzrJeGRQ",
      "include_colab_link": true
    },
    "kernelspec": {
      "name": "python3",
      "display_name": "Python 3"
    },
    "language_info": {
      "name": "python"
    }
  },
  "cells": [
    {
      "cell_type": "markdown",
      "metadata": {
        "id": "view-in-github",
        "colab_type": "text"
      },
      "source": [
        "<a href=\"https://colab.research.google.com/github/gmmanzo/Seizure-Detection/blob/main/Helper_functions.ipynb\" target=\"_parent\"><img src=\"https://colab.research.google.com/assets/colab-badge.svg\" alt=\"Open In Colab\"/></a>"
      ]
    },
    {
      "cell_type": "code",
      "execution_count": null,
      "metadata": {
        "id": "7KSOUvpRlgmF"
      },
      "outputs": [],
      "source": [
        "def extract_features(windows):\n",
        "    features = {}\n",
        "\n",
        "    # Time-domain features\n",
        "    features['mean'] = np.mean(windows)\n",
        "    features['std'] = np.std(windows)\n",
        "    features['skew'] = skew(windows)\n",
        "    features['kurtosis'] = kurtosis(windows)\n",
        "\n",
        "    # Frequency-domain features (Power Spectral Density)\n",
        "    f, Pxx = welch(windows, fs=512, nperseg=512)\n",
        "    features['power_band'] = np.sum(Pxx)  # Total power\n",
        "\n",
        "    return features"
      ]
    },
    {
      "cell_type": "code",
      "source": [
        "def edf_file_extractor(file_path):\n",
        "  \"\"\"\n",
        "  Opens an EDF file and returns its contents in the form of a Data Frame\n",
        "  \"\"\"\n",
        "  # Load all data\n",
        "  import pyedflib # Used for edf files\n",
        "  import pandas as pd\n",
        "\n",
        "  # Load the EDF file\n",
        "  edf = pyedflib.EdfReader(file_path, check_file_size=False)\n",
        "\n",
        "  # Extract signal labels\n",
        "  signal_labels = edf.getSignalLabels()\n",
        "\n",
        "  # Extract signal data\n",
        "  signals = []\n",
        "  for i in range(edf.signals_in_file):\n",
        "      signals.append(edf.readSignal(i))\n",
        "\n",
        "  # Create a DataFrame\n",
        "  df = pd.DataFrame(signals).transpose()\n",
        "  df.columns = signal_labels\n",
        "\n",
        "  # Close the EDF file\n",
        "  edf.close()\n",
        "\n",
        "  return df"
      ],
      "metadata": {
        "id": "0dz3r6aMljmR"
      },
      "execution_count": 2,
      "outputs": []
    },
    {
      "cell_type": "code",
      "source": [],
      "metadata": {
        "id": "RFd3gWF777Nu"
      },
      "execution_count": null,
      "outputs": []
    }
  ]
}