{
  "nbformat": 4,
  "nbformat_minor": 0,
  "metadata": {
    "colab": {
      "provenance": [],
      "authorship_tag": "ABX9TyNi3geGdJvLobGTDn4NhWN2",
      "include_colab_link": true
    },
    "kernelspec": {
      "name": "python3",
      "display_name": "Python 3"
    },
    "language_info": {
      "name": "python"
    }
  },
  "cells": [
    {
      "cell_type": "markdown",
      "metadata": {
        "id": "view-in-github",
        "colab_type": "text"
      },
      "source": [
        "<a href=\"https://colab.research.google.com/github/gmmanzo/Seizure-Detection/blob/main/Helper_functions.ipynb\" target=\"_parent\"><img src=\"https://colab.research.google.com/assets/colab-badge.svg\" alt=\"Open In Colab\"/></a>"
      ]
    },
    {
      "cell_type": "code",
      "execution_count": 1,
      "metadata": {
        "id": "7KSOUvpRlgmF"
      },
      "outputs": [],
      "source": [
        "def extract_features(windows):\n",
        "    features = {}\n",
        "\n",
        "    # Time-domain features\n",
        "    features['mean'] = np.mean(windows)\n",
        "    features['std'] = np.std(windows)\n",
        "    features['skew'] = skew(windows)\n",
        "    features['kurtosis'] = kurtosis(windows)\n",
        "\n",
        "    # Frequency-domain features (Power Spectral Density)\n",
        "    f, Pxx = welch(windows, fs=512, nperseg=512)\n",
        "    features['power_band'] = np.sum(Pxx)  # Total power\n",
        "\n",
        "    return features"
      ]
    },
    {
      "cell_type": "code",
      "source": [],
      "metadata": {
        "id": "0dz3r6aMljmR"
      },
      "execution_count": null,
      "outputs": []
    }
  ]
}