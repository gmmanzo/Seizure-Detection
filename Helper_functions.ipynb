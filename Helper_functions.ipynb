{
  "nbformat": 4,
  "nbformat_minor": 0,
  "metadata": {
    "colab": {
      "provenance": [],
      "authorship_tag": "ABX9TyOWPZeorRK/GnL93pEE9GN0",
      "include_colab_link": true
    },
    "kernelspec": {
      "name": "python3",
      "display_name": "Python 3"
    },
    "language_info": {
      "name": "python"
    }
  },
  "cells": [
    {
      "cell_type": "markdown",
      "metadata": {
        "id": "view-in-github",
        "colab_type": "text"
      },
      "source": [
        "<a href=\"https://colab.research.google.com/github/gmmanzo/Seizure-Detection/blob/main/Helper_functions.ipynb\" target=\"_parent\"><img src=\"https://colab.research.google.com/assets/colab-badge.svg\" alt=\"Open In Colab\"/></a>"
      ]
    },
    {
      "cell_type": "code",
      "execution_count": 2,
      "metadata": {
        "id": "7KSOUvpRlgmF"
      },
      "outputs": [],
      "source": [
        "def extract_features(windows):\n",
        "    features = {}\n",
        "\n",
        "    # Time-domain features\n",
        "    features['mean'] = np.mean(windows)\n",
        "    features['std'] = np.std(windows)\n",
        "    features['skew'] = skew(windows)\n",
        "    features['kurtosis'] = kurtosis(windows)\n",
        "\n",
        "    # Frequency-domain features (Power Spectral Density)\n",
        "    f, Pxx = welch(windows, fs=512, nperseg=512)\n",
        "    features['power_band'] = np.sum(Pxx)  # Total power\n",
        "\n",
        "    return features"
      ]
    },
    {
      "cell_type": "code",
      "source": [
        "def edf_file_extractor(file_path):\n",
        "  \"\"\"\n",
        "  Opens an EDF file and returns its contents in the form of a Data Frame\n",
        "  \"\"\"\n",
        "  # Load all data\n",
        "  import pyedflib # Used for edf files\n",
        "  import pandas as pd\n",
        "\n",
        "  # Load the EDF file\n",
        "  edf = pyedflib.EdfReader(file_path, check_file_size=False)\n",
        "\n",
        "  # Extract signal labels\n",
        "  signal_labels = edf.getSignalLabels()\n",
        "\n",
        "  # Extract signal data\n",
        "  signals = []\n",
        "  for i in range(edf.signals_in_file):\n",
        "      signals.append(edf.readSignal(i))\n",
        "\n",
        "  # Create a DataFrame\n",
        "  df = pd.DataFrame(signals).transpose()\n",
        "  df.columns = signal_labels\n",
        "\n",
        "  # Close the EDF file\n",
        "  edf.close()\n",
        "\n",
        "  return df"
      ],
      "metadata": {
        "id": "0dz3r6aMljmR"
      },
      "execution_count": 3,
      "outputs": []
    },
    {
      "cell_type": "code",
      "source": [
        "def seizure_time_parser(txt_file_path):\n",
        "    \"\"\"\n",
        "    Takes in the txt file in the dataset and determines\n",
        "    the times of the seizures (if they have any) for all\n",
        "    files listed in the txt file.\n",
        "\n",
        "    Returns a dictionary in the following format:\n",
        "      {Filename: [[Seizure start time, seizure end time], ...]}\n",
        "    \"\"\"\n",
        "    if not txt_file_path.endswith('.txt'):\n",
        "        print(\"File is not a txt file\")\n",
        "        return {}\n",
        "\n",
        "    seizure_dict = {}\n",
        "\n",
        "    # Read non-empty stripped lines\n",
        "    with open(txt_file_path, 'r') as f:\n",
        "        lines = [line.strip() for line in f if line.strip()]\n",
        "\n",
        "    i = 0\n",
        "    while i < len(lines):\n",
        "        line = lines[i]\n",
        "        # Look for a file entry\n",
        "        if line.startswith(\"File Name:\"):\n",
        "            # Extract the file name\n",
        "            filename = line.split(\":\", 1)[1].strip()\n",
        "            # Advance until we find the \"Number of Seizures in File:\" line.\n",
        "            i += 1\n",
        "            while i < len(lines) and not lines[i].startswith(\"Number of Seizures in File:\"):\n",
        "                i += 1\n",
        "\n",
        "            if i < len(lines):\n",
        "                count_line = lines[i]\n",
        "                count_str = count_line.split(\":\", 1)[1].strip()\n",
        "                try:\n",
        "                    seizure_count = int(count_str)\n",
        "                except ValueError:\n",
        "                    seizure_count = 0\n",
        "\n",
        "                # Only process if at least one seizure exists.\n",
        "                if seizure_count > 0:\n",
        "                    seizure_intervals = []\n",
        "                    # Process each seizure.\n",
        "                    for j in range(seizure_count):\n",
        "                        # The next line should indicate the seizure start time.\n",
        "                        i += 1\n",
        "                        if i < len(lines) and \"Start Time:\" in lines[i]:\n",
        "                            start_line = lines[i]\n",
        "                            # Split on \":\" and take the first token of the remainder to get the numeric part.\n",
        "                            parts = start_line.split(\":\", 1)\n",
        "                            if len(parts) > 1:\n",
        "                                start_time_str = parts[1].strip().split()[0]\n",
        "                                try:\n",
        "                                    seizure_start = int(start_time_str)\n",
        "                                except ValueError:\n",
        "                                    seizure_start = None\n",
        "                            else:\n",
        "                                seizure_start = None\n",
        "                        else:\n",
        "                            seizure_start = None\n",
        "\n",
        "                        # The following line should indicate the seizure end time.\n",
        "                        i += 1\n",
        "                        if i < len(lines) and \"End Time:\" in lines[i]:\n",
        "                            end_line = lines[i]\n",
        "                            parts = end_line.split(\":\", 1)\n",
        "                            if len(parts) > 1:\n",
        "                                end_time_str = parts[1].strip().split()[0]\n",
        "                                try:\n",
        "                                    seizure_end = int(end_time_str)\n",
        "                                except ValueError:\n",
        "                                    seizure_end = None\n",
        "                            else:\n",
        "                                seizure_end = None\n",
        "                        else:\n",
        "                            seizure_end = None\n",
        "\n",
        "                        # Only add the seizure interval if both times were successfully parsed.\n",
        "                        if seizure_start is not None and seizure_end is not None:\n",
        "                            seizure_intervals.append([seizure_start, seizure_end])\n",
        "                    # Store the seizure intervals for the file.\n",
        "                    seizure_dict[filename] = seizure_intervals\n",
        "        i += 1\n",
        "\n",
        "    return seizure_dict"
      ],
      "metadata": {
        "id": "RFd3gWF777Nu"
      },
      "execution_count": 1,
      "outputs": []
    },
    {
      "cell_type": "code",
      "source": [
        "# Power Spectral Density Version of Data:\n",
        "def psd(node, plot=False, name=\"____\",find_max=True):\n",
        "  \"\"\"\n",
        "  Takes in a node, which refers to the specific EEG signal\n",
        "  Calculates the Power Spectral Density of a given EEG signal.\n",
        "  Returns raw data as f, Power.\n",
        "  F represents Frequency\n",
        "  Power is Power\n",
        "  \"\"\"\n",
        "  from scipy.signal import welch\n",
        "  import matplotlib.pyplot as plt\n",
        "\n",
        "  f, Power = welch(node, fs=512, nperseg=512)\n",
        "\n",
        "  if plot & find_max:\n",
        "    plt.figure(figsize = (12,7))\n",
        "    plt.plot(f, Power)\n",
        "    plt.title(f\"Power Spectral Density of {name}\")\n",
        "    plt.xlabel(\"Frequency(Hz)\")\n",
        "    plt.xlim(0,20)\n",
        "    plt.plot(f[pd.DataFrame.idxmax(pd.DataFrame(Power))],max(Power),'ro')\n",
        "  elif plot:\n",
        "    plt.figure(figsize = (12,7))\n",
        "    plt.plot(f, Power)\n",
        "    plt.title(f\"Power Spectral Density of {name}\")\n",
        "    plt.xlabel(\"Frequency(Hz)\")\n",
        "  return f, Power"
      ],
      "metadata": {
        "id": "S0gjXSwRnpFJ"
      },
      "execution_count": 5,
      "outputs": []
    },
    {
      "cell_type": "code",
      "source": [
        "# 1D Discrete Fast Fourier Transform Version of data:\n",
        "def fft(node, plot=False, name=\"_____\"):\n",
        "  \"\"\"\n",
        "  Takes in a node, which refers to the specific EEG signal\n",
        "  Calculates the Fast Fourier Transform of a given EEG signal.\n",
        "  Returns raw fft data\n",
        "  \"\"\"\n",
        "  from scipy.fft import fft, fftfreq, rfft\n",
        "  import numpy as np\n",
        "  import matplotlib.pyplot as plt\n",
        "  import tensorflow as tf\n",
        "\n",
        "  fft_data = tf.signal.rfft(tf.cast(EEG_Fp1, tf.float32)) # Need to convert the data type into a 64 bit to run the FFT function\n",
        "  if plot:\n",
        "    plt.figure(figsize = (12,7))\n",
        "    plt.plot(fft_data)\n",
        "    plt.xlim(0,20)\n",
        "    plt.grid()\n",
        "    plt.xlabel('Frequency')\n",
        "    plt.ylabel('Amplitude')\n",
        "    plt.title(f\"1D FFT of {name} data\")\n",
        "\n",
        "  return fft_data"
      ],
      "metadata": {
        "id": "rdFyb8oHn0J1"
      },
      "execution_count": 7,
      "outputs": []
    },
    {
      "cell_type": "code",
      "source": [
        "def preprocessing_EEG_signal(node, plot=False, name=\"______\"):\n",
        "  \"\"\"\n",
        "  Take in a node, which refers to the speicific EEG signal.\n",
        "  Filters the data.\n",
        "  \"\"\""
      ],
      "metadata": {
        "id": "bmBK0r2Gn-uU"
      },
      "execution_count": 8,
      "outputs": []
    },
    {
      "cell_type": "code",
      "source": [],
      "metadata": {
        "id": "Lnpj4FAytmVl"
      },
      "execution_count": null,
      "outputs": []
    }
  ]
}